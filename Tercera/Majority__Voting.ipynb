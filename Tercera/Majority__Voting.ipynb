{
  "nbformat": 4,
  "nbformat_minor": 0,
  "metadata": {
    "colab": {
      "provenance": []
    },
    "kernelspec": {
      "name": "python3",
      "display_name": "Python 3"
    },
    "language_info": {
      "name": "python"
    }
  },
  "cells": [
    {
      "cell_type": "code",
      "execution_count": null,
      "metadata": {
        "id": "9UmXkUHlw2d2"
      },
      "outputs": [],
      "source": [
        "import pandas as pd\n",
        "import numpy as np\n",
        "from scipy.stats import mode\n",
        "import glob\n",
        "from itertools import combinations\n",
        "\n",
        "# Ruta a los archivos CSV\n",
        "ruta_archivos = \"*.csv\"  # Cambia esta ruta según tu carpeta\n",
        "archivos = glob.glob(ruta_archivos)  # Obtiene una lista de archivos CSV en la carpeta\n",
        "\n",
        "if not archivos:\n",
        "    raise FileNotFoundError(\"No se encontraron archivos CSV en la ruta especificada.\")\n",
        "\n",
        "# Leer los datos y almacenarlos en una lista\n",
        "datos = []\n",
        "for archivo in archivos:\n",
        "    data = pd.read_csv(archivo)\n",
        "    if 'numero_de_cliente' not in data.columns or 'Predicted' not in data.columns:\n",
        "        raise ValueError(f\"El archivo {archivo} no contiene las columnas requeridas.\")\n",
        "    data = data[['numero_de_cliente', 'Predicted']].sort_values(by='numero_de_cliente').reset_index(drop=True)\n",
        "    datos.append(data)\n",
        "\n",
        "# Asegurarse de que todos tienen el mismo conjunto de clientes\n",
        "for i in range(1, len(datos)):\n",
        "    if not datos[0]['numero_de_cliente'].equals(datos[i]['numero_de_cliente']):\n",
        "        raise ValueError(\"Los archivos no tienen los mismos clientes o el orden no coincide.\")\n",
        "\n",
        "# Generar combinaciones de archivos y aplicar majority voting\n",
        "combinaciones = []\n",
        "for r in range(2, len(archivos) + 1):  # Desde combinaciones de 2 hasta todos los archivos\n",
        "    combinaciones.extend(combinations(range(len(archivos)), r))\n",
        "\n",
        "# Procesar cada combinación\n",
        "numero_de_cliente = datos[0]['numero_de_cliente']  # Mantener los IDs de los clientes\n",
        "for combo in combinaciones:\n",
        "    # Obtener los datos de los modelos seleccionados\n",
        "    predicciones = [datos[i]['Predicted'].values for i in combo]\n",
        "    predicciones = np.array(predicciones)  # Convertir a matriz numpy\n",
        "\n",
        "    # Aplicar majority voting\n",
        "    majority_votes, _ = mode(predicciones, axis=0)\n",
        "\n",
        "    # Crear un DataFrame con los resultados\n",
        "    resultados_df = pd.DataFrame({\n",
        "        'numero_de_cliente': numero_de_cliente,\n",
        "        'Predicted': majority_votes.flatten()\n",
        "    })\n",
        "\n",
        "    # Crear un nombre de archivo descriptivo para la combinación\n",
        "    nombre_archivo = f\"predicciones_comboo_{'_'.join(map(str, combo))}.csv\"\n",
        "    resultados_df.to_csv(nombre_archivo, index=False)\n",
        "\n",
        "    print(f\"Predicciones generadas para la combinación {combo} y guardadas en {nombre_archivo}.\")\n"
      ]
    }
  ]
}